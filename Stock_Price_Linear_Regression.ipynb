{
  "nbformat": 4,
  "nbformat_minor": 0,
  "metadata": {
    "colab": {
      "provenance": []
    },
    "kernelspec": {
      "name": "python3",
      "display_name": "Python 3"
    },
    "language_info": {
      "name": "python"
    }
  },
  "cells": [
    {
      "cell_type": "code",
      "execution_count": null,
      "metadata": {
        "id": "A0_DYHU3LVWC"
      },
      "outputs": [],
      "source": [
        "import pandas as pd\n",
        "import numpy as np\n",
        "import matplotlib.pyplot as plt\n",
        "%matplotlib inline"
      ]
    },
    {
      "cell_type": "code",
      "source": [
        "url=\"C:/project_datasets/SALES.txt\"\n",
        "ds=pd.read_csv(url,sep=\"\\t\",header=None)"
      ],
      "metadata": {
        "id": "UHx2NR7WVnM-"
      },
      "execution_count": null,
      "outputs": []
    },
    {
      "cell_type": "code",
      "source": [
        "ds.shape"
      ],
      "metadata": {
        "id": "x0OutBzKV3ak"
      },
      "execution_count": null,
      "outputs": []
    },
    {
      "cell_type": "code",
      "source": [
        "# Renaming the columns of the dataset.\n",
        "\n",
        "ds.columns=[\"Sales\",\"Advertising\"]"
      ],
      "metadata": {
        "id": "A427is-sWAiW"
      },
      "execution_count": null,
      "outputs": []
    },
    {
      "cell_type": "code",
      "source": [
        "# Independent variable= Feature Variable/ Input Varibale/ X/ Predictor Variable\n",
        "# Dependent variable= Target Variable/ Ouput Variable/ Y/ Response Variable"
      ],
      "metadata": {
        "id": "tYVGOUfHWK-D"
      },
      "execution_count": null,
      "outputs": []
    },
    {
      "cell_type": "code",
      "source": [
        "# Declaring independent and dependent variable.\n",
        "\n",
        "x=ds[\"Sales\"].values\n",
        "y=ds[\"Advertising\"].values\n",
        "\n",
        "# This gives the data values for x and y respectively.\n",
        "# Values attribute of pandas dataframe returns the numpy arrays."
      ],
      "metadata": {
        "id": "Edu71BSrWkD1"
      },
      "execution_count": null,
      "outputs": []
    },
    {
      "cell_type": "code",
      "source": [
        "# Visual exploratory data analysis\n",
        "\n",
        "plt.scatter(x, y, color = 'blue', label='Scatter Plot')\n",
        "plt.title('Relationship between Sales and Advertising')\n",
        "plt.xlabel('Sales')\n",
        "plt.ylabel('Advertising')\n",
        "plt.legend(loc=4)\n",
        "plt.show()"
      ],
      "metadata": {
        "id": "9oE60PzbYix3"
      },
      "execution_count": null,
      "outputs": []
    },
    {
      "cell_type": "code",
      "source": [
        "# Checking dimensions of x and y\n",
        "\n",
        "x.shape\n",
        "y.shape"
      ],
      "metadata": {
        "id": "Z293GeXzY2bQ"
      },
      "execution_count": null,
      "outputs": []
    },
    {
      "cell_type": "code",
      "source": [
        "# Since we are working with only one feature variable, so we need to reshape using Numpy reshape() method.\n",
        "# It specifies first dimension to be -1, which means \"unspecified\".\n",
        "\n",
        "X = x.reshape(-1,1)\n",
        "y = y.reshape(-1,1)"
      ],
      "metadata": {
        "id": "ARV25LxyY7Kq"
      },
      "execution_count": null,
      "outputs": []
    },
    {
      "cell_type": "code",
      "source": [
        "# Splitting data\n",
        "\n",
        "from sklearn.model_selection import train_test_split\n",
        "\n",
        "X_train, X_test, y_train, y_test = train_test_split(X, y, test_size=0.3, random_state=4)"
      ],
      "metadata": {
        "id": "uRH9hRriZKuD"
      },
      "execution_count": null,
      "outputs": []
    },
    {
      "cell_type": "code",
      "source": [
        "# Fitting the model\n",
        "\n",
        "from sklearn.linear_model import LinearRegression\n",
        "\n",
        "lm = LinearRegression()\n",
        "\n",
        "lm.fit(X_train, y_train)\n",
        "\n",
        "# predict on test data\n",
        "\n",
        "y_pred=lm.predict(X_test)"
      ],
      "metadata": {
        "id": "Md5_mkBWZYhY"
      },
      "execution_count": null,
      "outputs": []
    },
    {
      "cell_type": "code",
      "source": [
        "b=lm.intercept_\n",
        "c=lm.coef_\n",
        "\n",
        "# So, our fitted regression line is:\n",
        "\n",
        "# y=cx+b\n",
        "# y = 1.60509347 * x - 11.16003616\n",
        "\n",
        "# That is our linear model."
      ],
      "metadata": {
        "id": "1S9WQ5-pZy1U"
      },
      "execution_count": null,
      "outputs": []
    },
    {
      "cell_type": "code",
      "source": [
        "# Predicting Advertising values on first five Sales values.\n",
        "\n",
        "lm.predict(X)[0:5]"
      ],
      "metadata": {
        "id": "sIpQYrBggMHA"
      },
      "execution_count": null,
      "outputs": []
    },
    {
      "cell_type": "code",
      "source": [
        "# To make an individual prediction using the linear regression model.\n",
        "\n",
        "print(str(lm.predict(24)))"
      ],
      "metadata": {
        "id": "D-rcPmhKgifP"
      },
      "execution_count": null,
      "outputs": []
    },
    {
      "cell_type": "code",
      "source": [
        "# Regression metrics for model performance.\n",
        "\n",
        "# Calculating the RMSE, MAS, and R2 score.\n",
        "\n",
        "from sklearn.metrics import mean_squared_error, mean_absolute_error, r2_score\n",
        "\n",
        "mse=mean_squared_error(y_test, y_pred)\n",
        "rmse=np.sqrt(mse)\n",
        "\n",
        "mae=mean_absolute_error(y_test, y_pred)\n",
        "\n",
        "r2=r2_score(y_test, y_pred)"
      ],
      "metadata": {
        "id": "A1Z0fowxgo2r"
      },
      "execution_count": null,
      "outputs": []
    },
    {
      "cell_type": "code",
      "source": [
        "# Plotting the regression line.\n",
        "\n",
        "plt.scatter(X, y, color = 'blue', label='Scatter Plot')\n",
        "plt.plot(X_test, y_pred, color = 'black', linewidth=3, label = 'Regression Line')\n",
        "plt.title('Relationship between Sales and Advertising')\n",
        "plt.xlabel('Sales')\n",
        "plt.ylabel('Advertising')\n",
        "plt.legend(loc=4)\n",
        "plt.show()"
      ],
      "metadata": {
        "id": "shVggPsAttYq"
      },
      "execution_count": null,
      "outputs": []
    },
    {
      "cell_type": "code",
      "source": [
        "# Plotting residual errors\n",
        "\n",
        "plt.scatter(lm.predict(X_train), lm.predict(X_train) - y_train, color = 'red', label = 'Train data')\n",
        "plt.scatter(lm.predict(X_test), lm.predict(X_test) - y_test, color = 'blue', label = 'Test data')\n",
        "plt.hlines(xmin = 0, xmax = 50, y = 0, linewidth = 3)\n",
        "plt.title('Residual errors')\n",
        "plt.legend(loc = 4)\n",
        "plt.show()"
      ],
      "metadata": {
        "id": "JiY6-wKuujb5"
      },
      "execution_count": null,
      "outputs": []
    },
    {
      "cell_type": "code",
      "source": [
        "# Calculating the training and testing score\n",
        "\n",
        "train_score=lm.score(X_train, y_train)\n",
        "test_score=lm.score(X_test, y_test)\n",
        "\n",
        "# We obtained training score less than the testing score. So, underfitting."
      ],
      "metadata": {
        "id": "jAMZNDqdrFhY"
      },
      "execution_count": null,
      "outputs": []
    },
    {
      "cell_type": "code",
      "source": [
        "# # Save model for future use\n",
        "\n",
        "from sklearn.externals import joblib\n",
        "joblib.dump(lm, 'lm_regressor.pkl')\n",
        "\n",
        "# To load the model\n",
        "\n",
        "# lm2=joblib.load('lm_regressor.pkl')"
      ],
      "metadata": {
        "id": "kmbolNvkrXls"
      },
      "execution_count": null,
      "outputs": []
    }
  ]
}